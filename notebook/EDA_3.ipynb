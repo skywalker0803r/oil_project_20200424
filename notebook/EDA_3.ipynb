{
 "cells": [
  {
   "cell_type": "code",
   "execution_count": 1,
   "metadata": {},
   "outputs": [
    {
     "data": {
      "text/plain": [
       "['col_names.pkl', 'train(energy).csv', 'train.csv']"
      ]
     },
     "execution_count": 1,
     "metadata": {},
     "output_type": "execute_result"
    }
   ],
   "source": [
    "import pandas as pd\n",
    "import joblib\n",
    "import numpy as np\n",
    "import seaborn as sns\n",
    "import warnings;warnings.simplefilter('ignore')\n",
    "import os \n",
    "root = '../data/phase_2/cleaned/'\n",
    "os.listdir(root)"
   ]
  },
  {
   "cell_type": "code",
   "execution_count": 2,
   "metadata": {},
   "outputs": [],
   "source": [
    "def normalize(x):\n",
    "    return x / x.sum(axis=1).reshape(-1,1)\n",
    "col_names = joblib.load(root+'col_names.pkl')"
   ]
  },
  {
   "cell_type": "code",
   "execution_count": 3,
   "metadata": {},
   "outputs": [
    {
     "name": "stdout",
     "output_type": "stream",
     "text": [
      "Index(['002-02'], dtype='object') Index(['002-02'], dtype='object')\n"
     ]
    }
   ],
   "source": [
    "idx = np.random.uniform(1,200)\n",
    "df1 = pd.read_csv(root+'train(energy).csv',index_col=0).iloc[[idx]]\n",
    "df2 = pd.read_csv(root+'train.csv',index_col=0).iloc[[idx]]\n",
    "print(df1.index,df2.index)"
   ]
  },
  {
   "cell_type": "code",
   "execution_count": 4,
   "metadata": {},
   "outputs": [
    {
     "data": {
      "text/plain": [
       "array([[0.03056438, 0.88125817, 0.08817744]])"
      ]
     },
     "execution_count": 4,
     "metadata": {},
     "output_type": "execute_result"
    }
   ],
   "source": [
    "F_ton = df1[col_names['Rate_ton']].iloc[:,1:]\n",
    "normalize(F_ton.values)"
   ]
  },
  {
   "cell_type": "code",
   "execution_count": 5,
   "metadata": {},
   "outputs": [
    {
     "name": "stdout",
     "output_type": "stream",
     "text": [
      "100.00001989267534\n"
     ]
    },
    {
     "data": {
      "text/plain": [
       "array([[0.03056438, 0.88125819, 0.08817743]])"
      ]
     },
     "execution_count": 5,
     "metadata": {},
     "output_type": "execute_result"
    }
   ],
   "source": [
    "A = (df2[col_names['xna']].values@df2[col_names['sle']].values.ravel())[0]\n",
    "B = (df2[col_names['xna']].values@df2[col_names['shc']].values.ravel())[0]\n",
    "C = (df2[col_names['xna']].values@df2[col_names['she']].values.ravel())[0]\n",
    "print(A+B+C)\n",
    "normalize(np.array([[A,B,C]]))"
   ]
  },
  {
   "cell_type": "code",
   "execution_count": null,
   "metadata": {},
   "outputs": [],
   "source": []
  },
  {
   "cell_type": "code",
   "execution_count": null,
   "metadata": {},
   "outputs": [],
   "source": []
  },
  {
   "cell_type": "code",
   "execution_count": null,
   "metadata": {},
   "outputs": [],
   "source": []
  },
  {
   "cell_type": "code",
   "execution_count": null,
   "metadata": {},
   "outputs": [],
   "source": []
  },
  {
   "cell_type": "code",
   "execution_count": null,
   "metadata": {},
   "outputs": [],
   "source": []
  }
 ],
 "metadata": {
  "kernelspec": {
   "display_name": "Python 3",
   "language": "python",
   "name": "python3"
  },
  "language_info": {
   "codemirror_mode": {
    "name": "ipython",
    "version": 3
   },
   "file_extension": ".py",
   "mimetype": "text/x-python",
   "name": "python",
   "nbconvert_exporter": "python",
   "pygments_lexer": "ipython3",
   "version": "3.7.4"
  }
 },
 "nbformat": 4,
 "nbformat_minor": 2
}
